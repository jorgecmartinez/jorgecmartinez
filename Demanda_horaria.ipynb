{
 "metadata": {
  "language_info": {
   "codemirror_mode": {
    "name": "ipython",
    "version": 3
   },
   "file_extension": ".py",
   "mimetype": "text/x-python",
   "name": "python",
   "nbconvert_exporter": "python",
   "pygments_lexer": "ipython3",
   "version": "3.9.5"
  },
  "orig_nbformat": 4,
  "kernelspec": {
   "name": "python3",
   "display_name": "Python 3.9.5 64-bit"
  },
  "interpreter": {
   "hash": "50b8733e9f6b9770ebef0ab6026afd706836021c8f693bc621396c769ecb10aa"
  }
 },
 "nbformat": 4,
 "nbformat_minor": 2,
 "cells": [
  {
   "cell_type": "code",
   "execution_count": 22,
   "metadata": {},
   "outputs": [],
   "source": [
    "import numpy as np\n",
    "import pandas as pd\n",
    "# Lectura de todos los valores\n",
    "datos = pd.read_csv(\"2020_01_01.csv\", sep=\";\")\n",
    "datos.columns = [col.replace(\",\", \"c\") for col in datos.columns]\n",
    "datos.to_csv(\"Pli\")\n",
    "demanda=pd.read_csv(\"Pli\", sep=\"c\")\n",
    "datos.to_csv(\"Ple\")\n",
    "demanda=pd.read_csv(\"Ple\", sep=\" \")"
   ]
  },
  {
   "cell_type": "code",
   "execution_count": null,
   "metadata": {},
   "outputs": [],
   "source": []
  }
 ]
}